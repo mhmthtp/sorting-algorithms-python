{
 "cells": [
  {
   "cell_type": "markdown",
   "id": "8935bd88-eb4c-42cd-9922-564430109ed5",
   "metadata": {},
   "source": [
    "# SORTING ALGORITHMS EXAMPLES"
   ]
  },
  {
   "cell_type": "code",
   "execution_count": 24,
   "id": "54293f3b-7ee5-40c5-bb58-9810867dff86",
   "metadata": {},
   "outputs": [
    {
     "name": "stdout",
     "output_type": "stream",
     "text": [
      "Original Data Set: [54, 57, 53, 3, 27, 54, 87, 67, 4, 15, 92, 12, 7, 70, 22, 9, 99, 62, 88, 94]\n"
     ]
    }
   ],
   "source": [
    "import random\n",
    "import pandas as pd\n",
    "\n",
    "data=[random.randint(1,100) for _ in range(20)]\n",
    "print(f\"Original Data Set: {data}\")"
   ]
  },
  {
   "cell_type": "markdown",
   "id": "7e3a0d8a",
   "metadata": {},
   "source": [
    "## Bubble Sort"
   ]
  },
  {
   "cell_type": "code",
   "execution_count": 25,
   "id": "6c4cb622",
   "metadata": {},
   "outputs": [
    {
     "name": "stdout",
     "output_type": "stream",
     "text": [
      "[3, 4, 7, 9, 12, 15, 22, 27, 53, 54, 54, 57, 62, 67, 70, 87, 88, 92, 94, 99]\n"
     ]
    }
   ],
   "source": [
    "def sort_bubble(arr):\n",
    "    n = len(arr)\n",
    "    sorted = False\n",
    "    \n",
    "    while not sorted:\n",
    "        sorted = True\n",
    "        for i in range(n-1):\n",
    "            if arr[i] > arr[i+1]:\n",
    "                sorted = False\n",
    "                arr[i], arr[i+1] = arr[i+1], arr[i]\n",
    "    return arr\n",
    "\n",
    "print(sort_bubble(data))"
   ]
  },
  {
   "cell_type": "markdown",
   "id": "647cc78d",
   "metadata": {},
   "source": [
    "## Selection Sort"
   ]
  },
  {
   "cell_type": "code",
   "execution_count": 26,
   "id": "e0838bb7",
   "metadata": {},
   "outputs": [
    {
     "name": "stdout",
     "output_type": "stream",
     "text": [
      "[3, 4, 7, 9, 12, 15, 22, 27, 53, 54, 54, 57, 62, 67, 70, 87, 88, 92, 94, 99]\n"
     ]
    }
   ],
   "source": [
    "def sort_selection(arr):\n",
    "    n = len(arr)\n",
    "    \n",
    "    for i in range(n-1):\n",
    "        min_val= i\n",
    "        \n",
    "        for j in range(i+1 , n-1):\n",
    "            \n",
    "            if arr[j] < arr[i]:\n",
    "                min_val = j\n",
    "            if min_val != i:\n",
    "                arr[min_val], arr[i] = arr[i], arr[min_val]\n",
    "    return arr\n",
    "\n",
    "print(sort_selection(data))"
   ]
  },
  {
   "cell_type": "markdown",
   "id": "1e39e79a",
   "metadata": {},
   "source": [
    "## Insertion Sort"
   ]
  },
  {
   "cell_type": "code",
   "execution_count": 27,
   "id": "d9262ea1",
   "metadata": {},
   "outputs": [
    {
     "name": "stdout",
     "output_type": "stream",
     "text": [
      "[3, 4, 7, 9, 12, 15, 22, 27, 53, 54, 54, 57, 62, 67, 70, 87, 88, 92, 94, 99]\n"
     ]
    }
   ],
   "source": [
    "def sort_insert(arr):\n",
    "    n = len(arr)\n",
    "    \n",
    "    for i in range( n):\n",
    "        value_sort = arr[i]\n",
    "        \n",
    "        while arr[i-1] > value_sort and i>0:\n",
    "            arr[i], arr[i-1] = arr[i-1], arr[i]\n",
    "            i = i-1\n",
    "    \n",
    "    return arr\n",
    "\n",
    "print(sort_insert(data))"
   ]
  },
  {
   "cell_type": "markdown",
   "id": "0796848c",
   "metadata": {},
   "source": [
    "## Quick Sort"
   ]
  },
  {
   "cell_type": "code",
   "execution_count": 28,
   "id": "058dd6d2",
   "metadata": {},
   "outputs": [
    {
     "name": "stdout",
     "output_type": "stream",
     "text": [
      "[3, 4, 7, 9, 12, 15, 22, 27, 53, 54, 54, 57, 62, 67, 70, 87, 88, 92, 94, 99]\n"
     ]
    }
   ],
   "source": [
    "def sort_quick(arr):\n",
    "    if len(arr) <= 1:\n",
    "        return arr\n",
    "    else:\n",
    "        lower_val = []\n",
    "        greater_val = []\n",
    "        pivot = arr[0]\n",
    "        for i in arr[1:]:\n",
    "            if i < pivot:\n",
    "                lower_val.append(i)\n",
    "            else:\n",
    "                greater_val.append(i)\n",
    "    \n",
    "    return sort_quick(lower_val) + [pivot] + sort_quick(greater_val)\n",
    "\n",
    "print(sort_quick(data))"
   ]
  },
  {
   "cell_type": "markdown",
   "id": "ee40ddd0",
   "metadata": {},
   "source": [
    "## Merge Sort"
   ]
  },
  {
   "cell_type": "code",
   "execution_count": 29,
   "id": "fa2047a0",
   "metadata": {},
   "outputs": [
    {
     "name": "stdout",
     "output_type": "stream",
     "text": [
      "[3, 4, 7, 9, 12, 15, 22, 27, 53, 54, 54, 57, 62, 67, 70, 87, 88, 92, 94, 99]\n"
     ]
    }
   ],
   "source": [
    "def sort_merge(arr):\n",
    "    n = len(arr)\n",
    "    if n > 1:\n",
    "        left_arr = arr[:n//2]\n",
    "        right_arr = arr[n//2:]\n",
    "        \n",
    "        sort_merge(left_arr)\n",
    "        sort_merge(right_arr)\n",
    "        \n",
    "        i = j = k = 0\n",
    "        \n",
    "        while i < len(left_arr) and j < len(right_arr):\n",
    "            if left_arr[i] < right_arr[j]:\n",
    "                arr[k] = left_arr[i]\n",
    "                i += 1\n",
    "            else:\n",
    "                arr[k] = right_arr[j]\n",
    "                j += 1\n",
    "            k += 1\n",
    "        \n",
    "        while i < len(left_arr):\n",
    "            arr[k] = left_arr[i]\n",
    "            i += 1\n",
    "            k += 1\n",
    "        \n",
    "        while j < len(right_arr):\n",
    "            arr[k] = right_arr[j]\n",
    "            j += 1\n",
    "            k += 1\n",
    "    return arr\n",
    "\n",
    "print(sort_merge(data))"
   ]
  },
  {
   "cell_type": "markdown",
   "id": "2b61daea",
   "metadata": {},
   "source": [
    "## Heap Sort"
   ]
  },
  {
   "cell_type": "code",
   "execution_count": 30,
   "id": "d90dd779",
   "metadata": {},
   "outputs": [
    {
     "name": "stdout",
     "output_type": "stream",
     "text": [
      "[3, 4, 7, 9, 12, 15, 22, 27, 53, 54, 54, 57, 62, 67, 70, 87, 88, 92, 94, 99]\n"
     ]
    }
   ],
   "source": [
    "def sort_heap(arr):\n",
    "    n = len(arr)\n",
    "    def heapify(arr, n, i):\n",
    "        largest = i  \n",
    "        left = 2 * i + 1  \n",
    "        right = 2 * i + 2  \n",
    "\n",
    "        if left < n and arr[i] < arr[left]:\n",
    "            largest = left\n",
    "\n",
    "        if right < n and arr[largest] < arr[right]:\n",
    "            largest = right\n",
    "\n",
    "        if largest != i:\n",
    "            (arr[i], arr[largest]) = (arr[largest], arr[i])  \n",
    "\n",
    "            heapify(arr, n, largest)\n",
    "\n",
    "    def heapSort(arr):\n",
    "        n = len(arr)\n",
    "\n",
    "        for i in range(n // 2 - 1, -1, -1):\n",
    "            heapify(arr, n, i)\n",
    "        for i in range(n - 1, 0, -1):\n",
    "            (arr[i], arr[0]) = (arr[0], arr[i])\n",
    "            heapify(arr, i, 0)\n",
    "\n",
    "    heapSort(arr)\n",
    "    return arr\n",
    "\n",
    "print(sort_heap(data))"
   ]
  },
  {
   "cell_type": "markdown",
   "id": "eed36223",
   "metadata": {},
   "source": [
    "## Counting Sort"
   ]
  },
  {
   "cell_type": "code",
   "execution_count": 31,
   "id": "b0fb086a",
   "metadata": {},
   "outputs": [
    {
     "name": "stdout",
     "output_type": "stream",
     "text": [
      "[3, 4, 7, 9, 12, 15, 22, 27, 53, 54, 54, 57, 62, 67, 70, 87, 88, 92, 94, 99]\n"
     ]
    }
   ],
   "source": [
    "def sort_counting(arr):\n",
    "    n = len(arr)\n",
    "    k = max(arr) +1\n",
    "    sorted_arr = [0] * n\n",
    "    count = [0] * k\n",
    "    \n",
    "    for i in range(n):\n",
    "        count[arr[i]] += 1\n",
    "    \n",
    "    for i in range(1, k):\n",
    "        count[i] += count[i - 1]\n",
    "    \n",
    "    for i in range(n - 1, -1, -1):\n",
    "        sorted_arr[count[arr[i]] - 1] = arr[i]\n",
    "        count[arr[i]] -= 1\n",
    "    \n",
    "    return sorted_arr\n",
    "\n",
    "print(sort_counting(data))"
   ]
  },
  {
   "cell_type": "markdown",
   "id": "96a82a47",
   "metadata": {},
   "source": [
    "## Radix Sort"
   ]
  },
  {
   "cell_type": "code",
   "execution_count": 32,
   "id": "71f65212",
   "metadata": {},
   "outputs": [
    {
     "name": "stdout",
     "output_type": "stream",
     "text": [
      "[3, 4, 7, 9, 12, 15, 22, 27, 53, 54, 54, 57, 62, 67, 70, 87, 88, 92, 94, 99]\n"
     ]
    }
   ],
   "source": [
    "def sort_radix(arr):\n",
    "    def sort_counting(arr):\n",
    "        n = len(arr)\n",
    "        k = max(arr) +1\n",
    "        sorted_arr = [0] * n\n",
    "        count = [0] * k\n",
    "    \n",
    "        for i in range(n):\n",
    "            count[arr[i]] += 1\n",
    "    \n",
    "        for i in range(1, k):\n",
    "            count[i] += count[i - 1]\n",
    "    \n",
    "        for i in range(n - 1, -1, -1):\n",
    "            sorted_arr[count[arr[i]] - 1] = arr[i]\n",
    "            count[arr[i]] -= 1\n",
    "    \n",
    "        return sorted_arr\n",
    "    \n",
    "    max_element = max(arr)\n",
    "    place = 1\n",
    "    while max_element // place > 0:\n",
    "        sort_counting(arr)\n",
    "        place *= 10\n",
    "    return arr\n",
    "\n",
    "print(sort_radix(data))"
   ]
  },
  {
   "cell_type": "markdown",
   "id": "086935a2",
   "metadata": {},
   "source": [
    "## Topological Sort"
   ]
  },
  {
   "cell_type": "code",
   "execution_count": 33,
   "id": "7562e30b",
   "metadata": {},
   "outputs": [
    {
     "name": "stdout",
     "output_type": "stream",
     "text": [
      "[3, 4, 7, 9, 12, 15, 22, 27, 53, 54, 54, 57, 62, 67, 70, 87, 88, 92, 94, 99]\n"
     ]
    }
   ],
   "source": [
    "def sort_topological(arr):\n",
    "    n = len(arr)\n",
    "    graph = {}\n",
    "    def topologicalSort(graph, v, visited, stack):\n",
    "        visited[v] = True\n",
    "        if v in graph:\n",
    "            for i in graph[v]:\n",
    "                if visited[i] is False:\n",
    "                    topologicalSort(graph, i, visited, stack)\n",
    "        stack.insert(0, v)\n",
    "    \n",
    "    \n",
    "    for i in range(n):\n",
    "        graph[i] = []\n",
    "\n",
    "    for i in range(n):\n",
    "        for j in range(i + 1, n):\n",
    "            if arr[i] > arr[j]:\n",
    "                graph[j].append(i)\n",
    "\n",
    "    visited = [False] * n\n",
    "    stack = []\n",
    "\n",
    "    for i in range(n):\n",
    "        if visited[i] is False:\n",
    "            topologicalSort(graph, i, visited, stack)\n",
    "\n",
    "    sorted_arr = [arr[i] for i in reversed(stack)]\n",
    "    return sorted_arr\n",
    "\n",
    "print(sort_topological(data))\n"
   ]
  }
 ],
 "metadata": {
  "kernelspec": {
   "display_name": "Python 3 (ipykernel)",
   "language": "python",
   "name": "python3"
  },
  "language_info": {
   "codemirror_mode": {
    "name": "ipython",
    "version": 3
   },
   "file_extension": ".py",
   "mimetype": "text/x-python",
   "name": "python",
   "nbconvert_exporter": "python",
   "pygments_lexer": "ipython3",
   "version": "3.11.4"
  }
 },
 "nbformat": 4,
 "nbformat_minor": 5
}
